{
  "nbformat": 4,
  "nbformat_minor": 0,
  "metadata": {
    "colab": {
      "name": "comic2pdf.ipynb",
      "provenance": [],
      "authorship_tag": "ABX9TyNasw7laVQcKZAb46PFJxKY",
      "include_colab_link": true
    },
    "kernelspec": {
      "name": "python3",
      "display_name": "Python 3"
    }
  },
  "cells": [
    {
      "cell_type": "markdown",
      "metadata": {
        "id": "view-in-github",
        "colab_type": "text"
      },
      "source": [
        "<a href=\"https://colab.research.google.com/github/vamsi-k-krishna/Lane-Keeping-Assist-on-CARLA/blob/master/comic2pdf.ipynb\" target=\"_parent\"><img src=\"https://colab.research.google.com/assets/colab-badge.svg\" alt=\"Open In Colab\"/></a>"
      ]
    },
    {
      "cell_type": "code",
      "metadata": {
        "id": "N01YDAUNw5z7",
        "colab_type": "code",
        "colab": {
          "base_uri": "https://localhost:8080/",
          "height": 54
        },
        "outputId": "6d4ee251-a3c9-47ab-f4b9-21c081e9f679"
      },
      "source": [
        "from google.colab import drive\n",
        "drive.mount('/content/drive')"
      ],
      "execution_count": 83,
      "outputs": [
        {
          "output_type": "stream",
          "text": [
            "Drive already mounted at /content/drive; to attempt to forcibly remount, call drive.mount(\"/content/drive\", force_remount=True).\n"
          ],
          "name": "stdout"
        }
      ]
    },
    {
      "cell_type": "code",
      "metadata": {
        "id": "Nkq3H5AiwJp1",
        "colab_type": "code",
        "colab": {
          "base_uri": "https://localhost:8080/",
          "height": 34
        },
        "outputId": "5b894334-c4ab-4210-e6e5-b4a51fbbed96"
      },
      "source": [
        "%cd /content/drive/My\\ Drive/comics/input/input/cbrtopdf\n"
      ],
      "execution_count": 88,
      "outputs": [
        {
          "output_type": "stream",
          "text": [
            "/content/drive/My Drive/comics/input/input/cbrtopdf\n"
          ],
          "name": "stdout"
        }
      ]
    },
    {
      "cell_type": "code",
      "metadata": {
        "id": "K_F_wD3Jvs26",
        "colab_type": "code",
        "colab": {
          "base_uri": "https://localhost:8080/",
          "height": 118
        },
        "outputId": "8d4a57d7-2268-445c-b024-987c157c4a65"
      },
      "source": [
        "!git clone https://github.com/Sierra77/cbrtopdf.git"
      ],
      "execution_count": 86,
      "outputs": [
        {
          "output_type": "stream",
          "text": [
            "Cloning into 'cbrtopdf'...\n",
            "remote: Enumerating objects: 8, done.\u001b[K\n",
            "remote: Counting objects:  12% (1/8)\u001b[K\rremote: Counting objects:  25% (2/8)\u001b[K\rremote: Counting objects:  37% (3/8)\u001b[K\rremote: Counting objects:  50% (4/8)\u001b[K\rremote: Counting objects:  62% (5/8)\u001b[K\rremote: Counting objects:  75% (6/8)\u001b[K\rremote: Counting objects:  87% (7/8)\u001b[K\rremote: Counting objects: 100% (8/8)\u001b[K\rremote: Counting objects: 100% (8/8), done.\u001b[K\n",
            "remote: Compressing objects:  16% (1/6)\u001b[K\rremote: Compressing objects:  33% (2/6)\u001b[K\rremote: Compressing objects:  50% (3/6)\u001b[K\rremote: Compressing objects:  66% (4/6)\u001b[K\rremote: Compressing objects:  83% (5/6)\u001b[K\rremote: Compressing objects: 100% (6/6)\u001b[K\rremote: Compressing objects: 100% (6/6), done.\u001b[K\n",
            "remote: Total 18 (delta 1), reused 7 (delta 1), pack-reused 10\u001b[K\n",
            "Unpacking objects: 100% (18/18), done.\n"
          ],
          "name": "stdout"
        }
      ]
    },
    {
      "cell_type": "code",
      "metadata": {
        "id": "GsDfDUwYm0Jb",
        "colab_type": "code",
        "colab": {
          "base_uri": "https://localhost:8080/",
          "height": 87
        },
        "outputId": "915266ed-1d3d-49ea-fee9-6393632b60a1"
      },
      "source": [
        "!pip install -r requirements.txt"
      ],
      "execution_count": 89,
      "outputs": [
        {
          "output_type": "stream",
          "text": [
            "Requirement already satisfied: patool==1.12 in /usr/local/lib/python3.6/dist-packages (from -r requirements.txt (line 1)) (1.12)\n",
            "Requirement already satisfied: Pillow==7.2.0 in /usr/local/lib/python3.6/dist-packages (from -r requirements.txt (line 2)) (7.2.0)\n",
            "Requirement already satisfied: PyPDF2==1.26.0 in /usr/local/lib/python3.6/dist-packages (from -r requirements.txt (line 3)) (1.26.0)\n"
          ],
          "name": "stdout"
        }
      ]
    },
    {
      "cell_type": "code",
      "metadata": {
        "id": "ZQlQqoggnStF",
        "colab_type": "code",
        "colab": {
          "base_uri": "https://localhost:8080/",
          "height": 524
        },
        "outputId": "c1ac0695-0767-4cce-d023-be4be41d53cb"
      },
      "source": [
        "!python cbrtopdf.py -s ram.cbr"
      ],
      "execution_count": 125,
      "outputs": [
        {
          "output_type": "stream",
          "text": [
            "here 1\n",
            "temp folder created\n",
            "virgin_0_12.jpg\n",
            "virgin_0_13.jpg\n",
            "virgin_0_14-15.jpg\n",
            "virgin_0_16.jpg\n",
            "virgin_0_17.jpg\n",
            "virgin_0_18.jpg\n",
            "virgin_0_19.jpg\n",
            "virgin_0_20.jpg\n",
            "virgin_0_21.jpg\n",
            "virgin_0_22.jpg\n",
            "virgin_0_12.jpg\n",
            "virgin_0_13.jpg\n",
            "virgin_0_14-15.jpg\n",
            "virgin_0_16.jpg\n",
            "virgin_0_17.jpg\n",
            "virgin_0_18.jpg\n",
            "virgin_0_19.jpg\n",
            "virgin_0_20.jpg\n",
            "virgin_0_21.jpg\n",
            "virgin_0_22.jpg\n",
            "slept\n",
            "Traceback (most recent call last):\n",
            "  File \"cbrtopdf.py\", line 92, in <module>\n",
            "    main()\n",
            "  File \"cbrtopdf.py\", line 77, in main\n",
            "    for filename in os.listdir(imgpath):\n",
            "NotADirectoryError: [Errno 20] Not a directory: '/content/drive/My Drive/comics/input/input/cbrtopdf/cbrtopdf_temp_folder/virgin_0_22.jpg'\n"
          ],
          "name": "stdout"
        }
      ]
    }
  ]
}